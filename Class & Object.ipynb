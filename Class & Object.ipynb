{
 "cells": [
  {
   "cell_type": "markdown",
   "metadata": {},
   "source": [
    "<div style=\"background-color: mediumseagreen; color:white;font-size:20px; text-align:center; width:100%; padding 12px;\">Class & Object</div>"
   ]
  },
  {
   "cell_type": "markdown",
   "metadata": {},
   "source": [
    "  class adalah Sebuah kerangka yang berisi metod dan properti untuk membentuk objek\n",
    "   ex. Obejk Laptop, Metode: Prosesor core I3, Objek : HP \n",
    "   Properi letaknya di atas ( apa yg kita tahu )\n",
    "   Metode letaknya di bawah ( apa yg harus kita tahu ).\n",
    "   \n",
    "   Struktur data yang bisa kita gunakan untuk mendefinisikan objek yang menyimpan data bersama-sama nilai-nilai dan perilaku     (behavior). Kelas adalah suatu entitas yang merupakan bentuk program dari suatu abstraksi untuk permasalahan dunia nyata, dan instans dari class merupakan realisasi dari beberapa objek."
   ]
  },
  {
   "cell_type": "markdown",
   "metadata": {},
   "source": [
    "<img src=\"https://i.ibb.co/jkLgZvG/co1.jpg\">"
   ]
  },
  {
   "cell_type": "code",
   "execution_count": 51,
   "metadata": {},
   "outputs": [
    {
     "name": "stdout",
     "output_type": "stream",
     "text": [
      "4\n",
      "Luas  16\n",
      "Volume  64\n",
      "Luas permukaan  24\n"
     ]
    }
   ],
   "source": [
    "class kubus :\n",
    "    def __init__(self,s):\n",
    "        self.sisi=s\n",
    "    def tampilkansisi (self):\n",
    "        print(self.sisi)\n",
    "    def luas (self):\n",
    "        print(\"Luas \",self.sisi**2)\n",
    "    def volume(self):\n",
    "        print(\"Volume \",self.sisi**3)\n",
    "    def luaspermukaan(self):\n",
    "        print(\"Luas permukaan \",self.sisi*6)\n",
    "kubus1=kubus(4)\n",
    "kubus1.tampilkansisi()\n",
    "kubus1.luas()\n",
    "kubus1.volume()\n",
    "kubus1.luaspermukaan()\n",
    "        "
   ]
  },
  {
   "cell_type": "code",
   "execution_count": 52,
   "metadata": {},
   "outputs": [
    {
     "name": "stdout",
     "output_type": "stream",
     "text": [
      "10448  adi  3\n",
      "BM\n"
     ]
    }
   ],
   "source": [
    "class mahasiswa:\n",
    "    def __init__(self,n,nm,i):\n",
    "        self.nim = n\n",
    "        self.nama = nm\n",
    "        self.ipk = int(i)\n",
    "    def tampilkan(self):\n",
    "        print(self.nim,\"\",self.nama,\"\",self.ipk)\n",
    "        if self.ipk >= 3:\n",
    "            print(\"BM\")\n",
    "        else:\n",
    "            print(\"TIDAK BM\")\n",
    "            \n",
    "A1 = mahasiswa(10448,\"adi\",3.7)\n",
    "A1.tampilkan()\n",
    "        \n",
    "        "
   ]
  },
  {
   "cell_type": "code",
   "execution_count": 1,
   "metadata": {},
   "outputs": [
    {
     "name": "stdout",
     "output_type": "stream",
     "text": [
      "2019-04-02 16:34:25.948390\n",
      "2019\n"
     ]
    }
   ],
   "source": [
    "from datetime import datetime\n",
    "sekarang = datetime.now()\n",
    "tahun = sekarang.year\n",
    "print(sekarang)\n",
    "print(tahun)"
   ]
  }
 ],
 "metadata": {
  "kernelspec": {
   "display_name": "Python 3",
   "language": "python",
   "name": "python3"
  },
  "language_info": {
   "codemirror_mode": {
    "name": "ipython",
    "version": 3
   },
   "file_extension": ".py",
   "mimetype": "text/x-python",
   "name": "python",
   "nbconvert_exporter": "python",
   "pygments_lexer": "ipython3",
   "version": "3.7.1"
  }
 },
 "nbformat": 4,
 "nbformat_minor": 2
}
