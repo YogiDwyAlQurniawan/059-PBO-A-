{
 "cells": [
  {
   "cell_type": "markdown",
   "metadata": {},
   "source": [
    "# Encapsulation  :)"
   ]
  },
  {
   "cell_type": "markdown",
   "metadata": {},
   "source": [
    "Dalam program python berorientasi objek, Anda dapat membatasi akses ke metode dan variabel. Ini dapat mencegah data dari dimodifikasi secara tidak sengaja dan dikenal sebagai enkapsulasi.\n",
    "\n",
    "Encapsulation memberi Anda kontrol lebih besar terhadap derajat kopling dalam kode Anda, memungkinkan kelas untuk mengubah implementasinya tanpa mempengaruhi bagian lain dari kode"
   ]
  },
  {
   "cell_type": "markdown",
   "metadata": {},
   "source": [
    "<img src=\"https://www.cpp.thiyagaraaj.com/cms/assets/cimages/encapsulation.png\">"
   ]
  },
  {
   "cell_type": "markdown",
   "metadata": {},
   "source": [
    "TYPE \n",
    "\n",
    "public methods    : Dapat diakses dari mana saja <br>\n",
    "Private methodd   : Hanya dapat diakses di kelas mereka sendiri. dimulai dengan dua garis bawah ( __ )\n",
    "\n",
    "public variables  : Dapat diakses dari mana saja <br>\n",
    "private variables : Dapat diakses hanya di kelas mereka sendiri atau dengan metode jika ditentukan. dimulai dengan dua garis bawah ( __ )\n",
    "\n",
    "Thx :)"
   ]
  },
  {
   "cell_type": "markdown",
   "metadata": {},
   "source": [
    "#### Private methods "
   ]
  },
  {
   "cell_type": "markdown",
   "metadata": {},
   "source": [
    "Kami membuat Mobil kelas yang memiliki dua metode: drive () dan updateSoftware (). Ketika objek mobil dibuat, itu akan memanggil metode pribadi __updateSoftware ().\n",
    "\n",
    "Fungsi ini tidak dapat dipanggil pada objek secara langsung, hanya dari dalam kelas"
   ]
  },
  {
   "cell_type": "markdown",
   "metadata": {},
   "source": [
    "<img src=\"https://pythonspot-9329.kxcdn.com/wp-content/uploads/2016/03/encapsulation.png\">"
   ]
  },
  {
   "cell_type": "code",
   "execution_count": 6,
   "metadata": {},
   "outputs": [
    {
     "name": "stdout",
     "output_type": "stream",
     "text": [
      "updating software\n",
      "driving\n"
     ]
    }
   ],
   "source": [
    "class Car:\n",
    " \n",
    "    def __init__(self):\n",
    "        self.__updateSoftware()\n",
    " \n",
    "    def drive(self):\n",
    "        print ('driving')\n",
    " \n",
    "    def __updateSoftware(self):\n",
    "        print ('updating software')\n",
    " \n",
    "redcar = Car()\n",
    "redcar.drive()"
   ]
  },
  {
   "cell_type": "markdown",
   "metadata": {},
   "source": [
    "Keterangan : <br>\n",
    "Encapsulation mencegah akses secara tidak sengaja, tetapi tidak dengan sengaja.\n",
    "Atribut dan metode pribadi tidak benar-benar disembunyikan, mereka diganti namanya menambahkan \"_Car\" di awal nama mereka.\n",
    "Metode ini sebenarnya dapat dipanggil menggunakan redcar._Car__updateSoftware ()"
   ]
  },
  {
   "cell_type": "markdown",
   "metadata": {},
   "source": [
    "#### Private variables"
   ]
  },
  {
   "cell_type": "markdown",
   "metadata": {},
   "source": [
    "Variabel dapat bersifat pribadi yang dapat berguna pada banyak kesempatan. Variabel pribadi hanya dapat diubah dalam metode kelas dan tidak di luar kelas.\n",
    "\n",
    "Objek dapat menyimpan data penting untuk aplikasi Anda dan Anda tidak ingin data itu dapat diubah dari mana pun dalam kode"
   ]
  },
  {
   "cell_type": "markdown",
   "metadata": {},
   "source": [
    "<img src=\"https://pythonspot-9329.kxcdn.com/wp-content/uploads/2016/03/encapsulation-example.png\">"
   ]
  },
  {
   "cell_type": "code",
   "execution_count": 10,
   "metadata": {},
   "outputs": [
    {
     "name": "stdout",
     "output_type": "stream",
     "text": [
      "driving. maxspeed 200\n",
      "driving. maxspeed 200\n"
     ]
    }
   ],
   "source": [
    "class Car:\n",
    " \n",
    "    __maxspeed = 0\n",
    "    __name = \"\"\n",
    " \n",
    "    def __init__(self):\n",
    "        self.__maxspeed = 200\n",
    "        self.__name = \"Supercar\"\n",
    " \n",
    "    def drive(self):\n",
    "        print ('driving. maxspeed ' + str(self.__maxspeed))\n",
    " \n",
    "redcar = Car()\n",
    "redcar.drive()\n",
    "redcar.__maxspeed = 10  # tidak akan mengubah variabel karena sifatnya pribadi\n",
    "redcar.drive()"
   ]
  },
  {
   "cell_type": "markdown",
   "metadata": {},
   "source": [
    "Jika Anda ingin mengubah nilai variabel pribadi, metode setter digunakan. Ini hanyalah sebuah metode yang menetapkan nilai variabel pribadi."
   ]
  },
  {
   "cell_type": "code",
   "execution_count": null,
   "metadata": {},
   "outputs": [],
   "source": []
  },
  {
   "cell_type": "code",
   "execution_count": 11,
   "metadata": {},
   "outputs": [
    {
     "name": "stdout",
     "output_type": "stream",
     "text": [
      "driving. maxspeed 200\n",
      "driving. maxspeed 320\n"
     ]
    }
   ],
   "source": [
    "class Car:\n",
    " \n",
    "    __maxspeed = 0\n",
    "    __name = \"\"\n",
    "\n",
    "    def __init__(self):\n",
    "        self.__maxspeed = 200\n",
    "        self.__name = \"Supercar\"\n",
    " \n",
    "    def drive(self):\n",
    "        print ('driving. maxspeed ' + str(self.__maxspeed))\n",
    " \n",
    "    def setMaxSpeed(self,speed):\n",
    "        self.__maxspeed = speed\n",
    " \n",
    "redcar = Car()\n",
    "redcar.drive()\n",
    "redcar.setMaxSpeed(320)\n",
    "redcar.drive()"
   ]
  },
  {
   "cell_type": "markdown",
   "metadata": {},
   "source": [
    "Mengapa Anda membuatnya? Karena beberapa nilai pribadi Anda mungkin ingin berubah setelah membuat objek sementara yang lain mungkin tidak perlu diubah sama sekali"
   ]
  },
  {
   "cell_type": "code",
   "execution_count": null,
   "metadata": {},
   "outputs": [],
   "source": [
    "class robot(object):\n",
    "    def __init__(self):\n",
    "        self.a = \"ini Public\"\n",
    "        self._b = \"ini privat\"\n",
    "        self.__c = \"privat\"\n",
    "    def cetak(self):\n",
    "        print(self.a)\n",
    "        print(self._b)\n",
    "        print(self.__c)\n",
    "    def ubah(self,c):\n",
    "        self.__c = c\n",
    "        \n",
    "a = robot()\n",
    "a.cetak()\n"
   ]
  },
  {
   "cell_type": "code",
   "execution_count": 3,
   "metadata": {},
   "outputs": [
    {
     "name": "stdout",
     "output_type": "stream",
     "text": [
      "22\n",
      "23\n"
     ]
    }
   ],
   "source": [
    "class robot(object):\n",
    "    def __init__(self):\n",
    "        self.__version = 22\n",
    "    def getVersion(self):\n",
    "        print(self.__version)\n",
    "    def setVersion(self,version):\n",
    "        self.__version = version\n",
    "\n",
    "obj = robot()\n",
    "obj.getVersion()\n",
    "obj.setVersion(23)\n",
    "obj.getVersion()\n",
    "#print(obj.__version)\n",
    "#print(obj._robot__version)\n"
   ]
  },
  {
   "cell_type": "code",
   "execution_count": 2,
   "metadata": {},
   "outputs": [
    {
     "name": "stdout",
     "output_type": "stream",
     "text": [
      "This is mt public method\n",
      "This is my private methoh\n",
      "This is another private method\n"
     ]
    }
   ],
   "source": [
    "class A(object):\n",
    "      \n",
    "    def myPublicMethod(self):                      #public method\n",
    "        return \"This is mt public method\"\n",
    "    \n",
    "    def myPrivateMethod(self):                     #private method with sigle _underscore\n",
    "        return \"This is my private methoh\"\n",
    "    \n",
    "    def myAnotherPrivateMethod(self):              #private method win double __underscore\n",
    "        return \"This is another private method\"\n",
    "    \n",
    "#nama object\n",
    "obj = A() \n",
    "print(obj.myPublicMethod())                     #ini untuk mengakses public method\n",
    "print(obj.myPrivateMethod())                   #ini untuk mengakses privat\n",
    "print(obj.myAnotherPrivateMethod())"
   ]
  },
  {
   "cell_type": "code",
   "execution_count": 3,
   "metadata": {},
   "outputs": [
    {
     "name": "stdout",
     "output_type": "stream",
     "text": [
      "driving. maxspeed 200\n",
      "driving. maxspeed 200\n"
     ]
    }
   ],
   "source": [
    "class Car:\n",
    "\n",
    "    __maxspeed = 0       #privat method    \n",
    "    __name = \"\"          #ini juga :)\n",
    "\n",
    "    def __init__(self):\n",
    "        self.__maxspeed = 200\n",
    "        self.__name = \"Supercar\"\n",
    "\n",
    "    def drive(self):\n",
    "        print('driving. maxspeed ' + str(self.__maxspeed))\n",
    "\n",
    "redcar = Car()\n",
    "redcar.drive()\n",
    "redcar.__maxspeed = 10  # will not change variable because its private\n",
    "redcar.drive()\n"
   ]
  },
  {
   "cell_type": "code",
   "execution_count": 34,
   "metadata": {},
   "outputs": [
    {
     "name": "stdout",
     "output_type": "stream",
     "text": [
      "Supercar  : 200 km/jam\n",
      "Supercar  : 10 km/jam\n",
      "SportCar  : 350 km/jam\n"
     ]
    }
   ],
   "source": [
    "class car:    \n",
    "    \n",
    "    def __init__(self):\n",
    "        self.__maxSpeed = 200\n",
    "        self.__name = \"Supercar\"\n",
    "        \n",
    "    def drive(self):\n",
    "        print(self.__name,\" :\",self.__maxSpeed,\"km/jam\")\n",
    "        \n",
    "    def setSpeed(self,Speed):\n",
    "        self.__maxSpeed = Speed\n",
    "    \n",
    "    def ubah(self,speed,nama):\n",
    "        self.__maxSpeed = speed\n",
    "        self.__name = nama\n",
    "        \n",
    "redcar = car()\n",
    "redcar.drive()\n",
    "redcar.setSpeed(10)\n",
    "redcar.drive()\n",
    "redcar.ubah(350,\"SportCar\")\n",
    "redcar.drive()"
   ]
  }
 ],
 "metadata": {
  "kernelspec": {
   "display_name": "Python 3",
   "language": "python",
   "name": "python3"
  },
  "language_info": {
   "codemirror_mode": {
    "name": "ipython",
    "version": 3
   },
   "file_extension": ".py",
   "mimetype": "text/x-python",
   "name": "python",
   "nbconvert_exporter": "python",
   "pygments_lexer": "ipython3",
   "version": "3.7.1"
  }
 },
 "nbformat": 4,
 "nbformat_minor": 2
}
