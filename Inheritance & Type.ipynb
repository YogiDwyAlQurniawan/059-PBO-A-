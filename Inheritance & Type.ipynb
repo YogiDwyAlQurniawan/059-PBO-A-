{
 "cells": [
  {
   "cell_type": "markdown",
   "metadata": {},
   "source": [
    "<div style=\"background-color: mediumseagreen; color:white;font-size:20px; text-align:center; width:100%; padding 12px;\">INHERITANCE</div>\n",
    "<div style=\"background-color: mediumseagreen; color:white;font-size:20px; text-align:center; width:100%; padding 12px;\">(Pewarisan)</div><br>"
   ]
  },
  {
   "cell_type": "markdown",
   "metadata": {},
   "source": [
    "Inheritance (Pewarisan) adalah sebuah class yang terdiri dari variabel dan fungsi dapat menurunkan class lain yang sama persis dengan dirinya. Pewaris dari sebuah class akan memiliki seluruh variabel dan fungsi bahkan konstruktor dari class yang di warisinya.\n",
    "Untuk mewarisi sebuah class pada python cukup menuliskan nama class yang akan diwarisi.\n",
    "class Anak ( Bapak )\n",
    "Pada contoh di atas itu berarti classs anak akan mewarisi seluruh konstruktor, variabel dan fungsi yang ada pada class bapak"
   ]
  },
  {
   "cell_type": "markdown",
   "metadata": {},
   "source": [
    "Kelas dapat mewarisi fungsionalitas kelas lain. Jika suatu objek dibuat menggunakan kelas yang mewarisi dari superclass, objek tersebut akan berisi metode kelas dan superclass.\n",
    "Warisan adalah ketika kelas menggunakan kode yang dibangun di dalam kelas lain. Jika kita berpikir tentang pewarisan dalam hal biologi, kita dapat memikirkan seorang anak yang mewarisi sifat-sifat tertentu dari orang tua mereka. Artinya, seorang anak dapat mewarisi tinggi atau warna mata orang tua. Anak-anak juga dapat berbagi nama belakang yang sama dengan orang tua mereka.\n",
    "Kelas yang disebut kelas anak atau subclass mewarisi metode dan variabel dari kelas induk atau kelas dasar"
   ]
  },
  {
   "attachments": {},
   "cell_type": "markdown",
   "metadata": {},
   "source": [
    "<img src=\"https://i.ibb.co/TgV7Q8y/2.jpg\">"
   ]
  },
  {
   "cell_type": "code",
   "execution_count": 2,
   "metadata": {},
   "outputs": [
    {
     "name": "stdout",
     "output_type": "stream",
     "text": [
      "\n",
      "Nama : Rohman\n",
      "Tinggi : 165 cm\n",
      "Berat : 65 kg\n",
      "Berjalan ke depan\n",
      "Berlari dengan cepat\n",
      "\n",
      "Nama : Yogi\n",
      "Tinggi : 170 cm\n",
      "Berat : 50 kg\n",
      "Berjalan ke depan\n",
      "Berlari dengan cepat\n"
     ]
    }
   ],
   "source": [
    "#Contoh code Inheritence\n",
    "class Bapak(object):\n",
    "    def __init__(self,nama,tinggi,berat):\n",
    "        self.nama = nama\n",
    "        self.tinggi = tinggi\n",
    "        self.berat = berat\n",
    "    def berjalan(self):\n",
    "        print(\"Berjalan ke depan\")\n",
    "    def berlari(self):\n",
    "        print(\"Berlari dengan cepat\")\n",
    "\n",
    "#class anak turunan dari bapak\n",
    "class Anak(Bapak):\n",
    "    pass\n",
    "b = Bapak(\"Rohman\",165,65)\n",
    "print()\n",
    "print(\"Nama :\",b.nama)\n",
    "print(\"Tinggi :\",b.tinggi, \"cm\")\n",
    "print(\"Berat :\",b.berat, \"kg\")\n",
    "b.berjalan()\n",
    "b.berlari()\n",
    "\n",
    "# Objek dari class Anak memiliki seluruh yang di miliki calss Bapak \n",
    "a = Anak(\"Yogi\",170,50)\n",
    "print()\n",
    "print(\"Nama :\", a.nama)\n",
    "print(\"Tinggi :\", a.tinggi, \"cm\")\n",
    "print(\"Berat :\", a.berat, \"kg\")\n",
    "a.berjalan()\n",
    "a.berlari()\n"
   ]
  },
  {
   "cell_type": "code",
   "execution_count": 3,
   "metadata": {},
   "outputs": [
    {
     "name": "stdout",
     "output_type": "stream",
     "text": [
      "Name :  Brian\n",
      "Name :  Diana\n",
      "Programer python\n"
     ]
    }
   ],
   "source": [
    "#P4\n",
    "class user:\n",
    "    name = \"\"\n",
    "    def __init__(self,name):\n",
    "        self.name = name\n",
    "    def printName(self):\n",
    "        print(\"Name : \",self.name)\n",
    "class programer(user):\n",
    "    def __init__(self,name):\n",
    "        self.name = name\n",
    "    def doPython(self):\n",
    "        print(\"Programer python\")\n",
    "brian = user(\"Brian\")\n",
    "brian.printName()\n",
    "diana = programer(\"Diana\")\n",
    "diana.printName()\n",
    "diana.doPython()\n",
    "        "
   ]
  },
  {
   "cell_type": "markdown",
   "metadata": {},
   "source": [
    "### Type Inheritance"
   ]
  },
  {
   "cell_type": "code",
   "execution_count": 4,
   "metadata": {},
   "outputs": [
    {
     "name": "stdout",
     "output_type": "stream",
     "text": [
      "Terry  fish\n",
      "boneey\n",
      "False\n",
      "The fish is swimming\n",
      "The fish can swim backward\n",
      "Casey  fish\n",
      "The fish is swimming\n",
      "The clownfish is coexisting with sea anemone\n"
     ]
    }
   ],
   "source": [
    "# Type Default\n",
    "class fish:\n",
    "    def __init__(self,first_name,last_name=\"fish\",skeleton=\"boneey\",eyelids=False):\n",
    "        self.first_name = first_name\n",
    "        self.last_name = last_name\n",
    "        self.skeleton = skeleton\n",
    "        self.eyelids = eyelids\n",
    "    def swim(self):\n",
    "        print(\"The fish is swimming\")\n",
    "    def swim_backward(self):\n",
    "        print(\"The fish can swim backward\")\n",
    "class trout1(fish):\n",
    "    pass\n",
    "class clownfish(fish):\n",
    "    def live_with_anemone(self):\n",
    "        print(\"The clownfish is coexisting with sea anemone\")\n",
    "        \n",
    "terry = trout1(\"Terry\")\n",
    "print(terry.first_name,\"\",terry.last_name)\n",
    "print(terry.skeleton)\n",
    "print(terry.eyelids)\n",
    "terry.swim()\n",
    "terry.swim_backward()\n",
    "\n",
    "casey = clownfish(\"Casey\")\n",
    "print(casey.first_name,\"\",casey.last_name)\n",
    "casey.swim()\n",
    "casey.live_with_anemone()"
   ]
  },
  {
   "cell_type": "code",
   "execution_count": 4,
   "metadata": {},
   "outputs": [],
   "source": [
    "# Type Overriding\n",
    "class Fish: \n",
    "    def __init__(self, first_name, last_name=\"Fish\", skeleton=\"bone\", eyelids=False): \n",
    "        self.first_name = first_name \n",
    "        self.last_name = last_name \n",
    "        self.skeleton = skeleton \n",
    "        self.eyelids = eyelids \n",
    "    def swim(self): \n",
    "        print(\"The fish is swimming.\") \n",
    "    def swim_backwards(self): \n",
    "        print(\"The fish can swim backwards.\") \n",
    "\n",
    "class Shark(Fish): \n",
    "    def __init__(self, first_name, last_name=\"Shark\", skeleton=\"cartilage\", eyelids=True): \n",
    "        self.first_name = first_name \n",
    "        self.last_name = last_name \n",
    "        self.skeleton = skeleton \n",
    "        self.eyelids = eyelids \n",
    "    def swim_backwards(self): \n",
    "        print(\"The shark cannot swim backwards, but can sink backwards.\")\n",
    "        "
   ]
  },
  {
   "cell_type": "markdown",
   "metadata": {},
   "source": [
    "Namun, kadang-kadang, kita ingin memanfaatkan beberapa perilaku kelas orang tua tetapi tidak semuanya. Ketika kita mengubah metode kelas induk kita menimpanya.\n",
    "  \n",
    "Memungkinkan kelas anak untuk memberikan implementasi yang berbeda untuk metode yang sudah didefinisikan dan / atau diimplementasikan di kelas induknya atau salah satu kelas induknya. Metode overriden di kelas anak harus memiliki nama, tanda tangan, dan parameter yang sama dengan yang ada di kelas induknya.\n",
    "\n",
    "Overriding: kelas anak dapat mengatur nilai properti / metode pada kelas induk\n",
    "\n",
    "Hiu, tidak seperti ikan bertulang, memiliki kerangka yang terbuat dari tulang rawan, bukan tulang. Mereka juga memiliki kelopak mata dan tidak bisa berenang mundur. Namun, hiu dapat bermanuver mundur dengan tenggelam.\n",
    "kita akan mengganti metode __init __ () konstruktor dan metode swim_backwards ()."
   ]
  },
  {
   "cell_type": "code",
   "execution_count": null,
   "metadata": {},
   "outputs": [],
   "source": [
    "#Type Super\n",
    "class user:\n",
    "    def __init__(self,first_name):\n",
    "        self.first_name = first_name\n",
    "    def cetak1(self):\n",
    "        print(\"First Name : \",self.first_name)\n",
    "class programer(user):\n",
    "    def __init__(self,first_name,last_name):\n",
    "        user.__init__(self,first_name)\n",
    "        self.last_name = last_name\n",
    "    def cetak2(self):\n",
    "        print(\"Last Name  : \",self.last_name)\n",
    "        print(\"Full Name  : \",self.first_name,self.last_name)\n",
    "first_name = \"Yogi\"\n",
    "last_name = \"Dwy Al Qurniawan\"\n",
    "A = programer(first_name,last_name)\n",
    "A.cetak1()\n",
    "A.cetak2()"
   ]
  },
  {
   "cell_type": "markdown",
   "metadata": {},
   "source": [
    "Fungsi super () paling umum digunakan dalam metode __init __ () karena di situlah Anda kemungkinan besar perlu menambahkan beberapa keunikan ke kelas anak dan kemudian menyelesaikan inisialisasi dari orangtua."
   ]
  },
  {
   "cell_type": "code",
   "execution_count": 2,
   "metadata": {},
   "outputs": [
    {
     "name": "stdout",
     "output_type": "stream",
     "text": [
      "Coral live community\n",
      "The anemone protection the clownfish\n"
     ]
    }
   ],
   "source": [
    "#Multiple\n",
    "class coral:\n",
    "    def community(self):\n",
    "        print(\"Coral live community\")\n",
    "class anemone:\n",
    "    def protect(self):\n",
    "        print(\"The anemone protection the clownfish\")\n",
    "class coralReef(coral,anemone):\n",
    "    pass\n",
    "G = coralReef()\n",
    "G.community()\n",
    "G.protect()"
   ]
  },
  {
   "attachments": {},
   "cell_type": "markdown",
   "metadata": {},
   "source": [
    "Multiple inheritance adalah ketika sebuah kelas dapat mewarisi atribut dan metode dari lebih dari satu kelas induk.\n",
    "\n",
    "<img src=\"https://i.ibb.co/Jt2qqPW/Screenshot-1.jpg\">"
   ]
  },
  {
   "cell_type": "markdown",
   "metadata": {},
   "source": [
    "TUGAS"
   ]
  },
  {
   "cell_type": "code",
   "execution_count": null,
   "metadata": {},
   "outputs": [],
   "source": [
    "class user():\n",
    "    def __init__(self,first_name):\n",
    "        self.first_name = first_name\n",
    "    def p(self):\n",
    "        print(self.first_name)\n",
    "class programer():\n",
    "    def __init__(self,first_name,last_name):\n",
    "        user.__init__(self,first_name)\n",
    "        self.last_name = last_name\n",
    "    def p(self):\n",
    "        print(self.first_name,self.last_name)\n",
    "    \n",
    "A = programer(\"a\",\"b\")\n",
    "A.p()\n",
    "    "
   ]
  },
  {
   "cell_type": "markdown",
   "metadata": {},
   "source": [
    "Tugas"
   ]
  },
  {
   "cell_type": "code",
   "execution_count": null,
   "metadata": {},
   "outputs": [],
   "source": [
    "class orang():\n",
    "    def __init__(self,nama):\n",
    "        self.nama = nama\n",
    "class mahasiswa(orang):\n",
    "    def __init__(self,nama,NIM):\n",
    "        orang.__init__(nama)\n",
    "        self.NIM = NIM\n",
    "    def cetak_data_mhs():\n",
    "        print(self.nama)\n",
    "        print(self.NIM)\n",
    "class pegawai(orang):\n",
    "    def __init__(self,nama,NIP):\n",
    "        orang.__init__(nama)\n",
    "        self.NIP = NIP\n",
    "class karyawan(pegawai):\n",
    "    pass\n",
    "    def cetak_data_karyawan():\n",
    "        print(self.nama)\n",
    "        print(self.NIP)\n",
    "class dosen(pegawai):\n",
    "    def __init__(self,nama,NIP,NID):\n",
    "        pegawai.__init__(self,nama,NIP)\n",
    "        self.NID = NID\n",
    "    def cetak_data_dosen():\n",
    "        print(self.nama)\n",
    "        print(\"NIP : \",self.NIP)\n",
    "        print(\"NID : \",self.NID)\n",
    "\n",
    "while True:\n",
    "    print('''\n",
    "    MENU\n",
    "-----------\n",
    "1. Mahasiswa\n",
    "2. Karyawan\n",
    "3. Dosen''')\n",
    "    n = int(input(\"Masukkan pilihan : \"))\n",
    "    nama = input(\"Masukkan nama : \")\n",
    "    if n == 1:\n",
    "        nim = int(input(\"Masukkan NIM : \"))\n",
    "        c = mahasiswa(nama,nim)\n",
    "        print(c.cetak_data_mahasiswa())\n",
    "    elif n == 2:\n",
    "        nip = int(input(\"Masukkan NIP : \"))\n",
    "        c = karyawan(nama,nip)\n",
    "        print(c.cetak_data_karyawan)\n",
    "    elif n == 3:\n",
    "        nid = input(\"Masukkan NID : \")\n",
    "        c = dosen(nama,nip,nid)\n",
    "        print(c.cetak_data_dosen)\n",
    "    else:\n",
    "        print(\"angka yang anda masukkan salah\")\n",
    "    a = input(\"Kembali ke-MENU ? (Y/T) : \")\n",
    "    b = \"T\"\n",
    "    if a == b:\n",
    "        print(\"END\")\n",
    "        break\n"
   ]
  },
  {
   "cell_type": "code",
   "execution_count": null,
   "metadata": {},
   "outputs": [
    {
     "name": "stdout",
     "output_type": "stream",
     "text": [
      "   MENU\n",
      "1.Mahasiswa\n",
      "2.Karyawan\n",
      "3.Dosen\n"
     ]
    }
   ],
   "source": [
    "class orang ():\n",
    "    def __init__(self,nama):\n",
    "        self.nama = nama\n",
    "class mahasiswa(orang):\n",
    "    def __init__(self,nama,NIM):\n",
    "        orang.__init__(self,nama)\n",
    "        self.NIM = NIM\n",
    "    def cetak_data_mhs(self):\n",
    "        print(self.nama)\n",
    "        print(self.NIM)\n",
    "\n",
    "class pegawai(orang):\n",
    "    def __init__(self,nama,NIP):\n",
    "        orang.__init__(self,nama)\n",
    "        self.NIP = NIP\n",
    "class karyawan(pegawai):\n",
    "    pass\n",
    "    def cetak_data_karyawan(self):\n",
    "        print(self.nama)\n",
    "        print(self.NIP)\n",
    "class dosen(pegawai):\n",
    "    def __init__(self,nama,NID,NIP):\n",
    "        pegawai.__init__(self, nama,NIP)\n",
    "        self.NID = NID\n",
    "    def cetak_data_dosen(self):\n",
    "        print(self.nama)\n",
    "        print(self.NIP)\n",
    "        print(self.NID)\n",
    "\n",
    "while True:\n",
    "    print(\"   MENU\")\n",
    "    print(\"1.Mahasiswa\")\n",
    "    print(\"2.Karyawan\")\n",
    "    print(\"3.Dosen\")\n",
    "    n = int(input(\"Masukkan pilihan : \"))\n",
    "    nama = input(\"Nama : \")\n",
    "    if n == 1:\n",
    "        nim = int(input(\"Masukkan NIM  : \"))\n",
    "        a = mahasiswa(nama,nim)\n",
    "        print(a.cetak_data_mhs())\n",
    "    elif n == 2:\n",
    "        nip = int(input(\"Masukkan NIP\"))\n",
    "        b = karyawan(nama,nip)\n",
    "        print(b.cetak_data_karyawan())\n",
    "    elif n == 3:\n",
    "        nip = int(input(\"Masukkan NIP : \"))\n",
    "        nid = int(input(\"NID  : \"))\n",
    "        c = dosen(nama,nid,nip)\n",
    "        print(c.cetak_data_dosen())\n",
    "    else:\n",
    "        print(\"Angka yang anda masukkan salah.\")\n",
    "    a = \"T\"\n",
    "    b = input(\"Kembali lagi (Y/T): \")\n",
    "    if a == b:\n",
    "        print(\"END\")\n",
    "        break\n"
   ]
  },
  {
   "cell_type": "code",
   "execution_count": null,
   "metadata": {},
   "outputs": [],
   "source": [
    "class mahasiswa:\n",
    "    def __init__(self, nama, nim):\n",
    "        self.nama = nama\n",
    "        self.nim = nim\n",
    "        \n",
    "        #Method untuk menampilkan data mahasiswa\n",
    "    def tampilkan(self):\n",
    "        print(\"Nama         : \",self.nama)\n",
    "        print(\"NIM          : \",self.nim)\n",
    "\n",
    "class matakuliah:\n",
    "    def __init__(self, matkul, kode):\n",
    "        self.matkul = matkul\n",
    "        self.kode = kode\n",
    "\n",
    "class pengambilan_matkul(matakuliah,mahasiswa): #Multiple Class dari matakuliah dan mahasiswa\n",
    "    \n",
    "    def __init__(self,nama,nim,matkul,kode,nilaiMK):\n",
    "        self.nilaiMK = nilaiMK\n",
    "        mahasiswa.__init__(self,nama,nim)\n",
    "        matakuliah.__init__(self,matkul,kode)\n",
    "\n",
    "    #Method mencetak KHS\n",
    "    def khs(self):\n",
    "        print()\n",
    "        print(\"KARTU HASIL STUDI\")\n",
    "        print()\n",
    "        #Menampilkan Method tampilkan di kelas mahasiswa\n",
    "        mahasiswa.tampilkan(self)\n",
    "        \n",
    "        #Menampilkan KHS\n",
    "        print(\"Mata Kuliah  : \",self.matkul) #Self.matkul dan kode diambil dari kelas matakuliah\n",
    "        print(\"Kode Matkul  : \",self.kode)\n",
    "        print(\"Nilai        : \",self.nilaiMK)\n",
    "\n",
    "\n",
    "\n",
    "#Data Mahasiswa\n",
    "nama_mhs = input(\"Masukkan Nama anda: \")\n",
    "nim= input(\"Masukkan NIM anda:  \")\n",
    "\n",
    "\n",
    "#Data matakuliah\n",
    "Nama_matkul = 'Algoritma Pemograman'\n",
    "Kode_matkul = '12345'\n",
    "nilai_matkul = 90\n",
    "\n",
    "#Output\n",
    "cetak = pengambilan_matkul(nama_mhs,nim,Nama_matkul,Kode_matkul,nilai_matkul)\n",
    "cetak.khs()\n",
    "\n",
    "\n"
   ]
  },
  {
   "cell_type": "code",
   "execution_count": null,
   "metadata": {},
   "outputs": [],
   "source": []
  },
  {
   "cell_type": "code",
   "execution_count": null,
   "metadata": {},
   "outputs": [],
   "source": []
  }
 ],
 "metadata": {
  "kernelspec": {
   "display_name": "Python 3",
   "language": "python",
   "name": "python3"
  },
  "language_info": {
   "codemirror_mode": {
    "name": "ipython",
    "version": 3
   },
   "file_extension": ".py",
   "mimetype": "text/x-python",
   "name": "python",
   "nbconvert_exporter": "python",
   "pygments_lexer": "ipython3",
   "version": "3.7.1"
  }
 },
 "nbformat": 4,
 "nbformat_minor": 2
}
