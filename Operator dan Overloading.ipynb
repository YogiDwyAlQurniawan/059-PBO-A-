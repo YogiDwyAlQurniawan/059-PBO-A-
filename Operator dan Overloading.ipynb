{
 "cells": [
  {
   "cell_type": "markdown",
   "metadata": {},
   "source": [
    "## Operator dan Overloading"
   ]
  },
  {
   "cell_type": "markdown",
   "metadata": {},
   "source": [
    "<img src=\"https://i.ibb.co/LPT1C5G/Screenshot-3.jpg\">"
   ]
  },
  {
   "cell_type": "markdown",
   "metadata": {},
   "source": [
    "First,contoh error dulu..."
   ]
  },
  {
   "cell_type": "code",
   "execution_count": 1,
   "metadata": {},
   "outputs": [
    {
     "ename": "TypeError",
     "evalue": "product() missing 1 required positional argument: 'c'",
     "output_type": "error",
     "traceback": [
      "\u001b[1;31m---------------------------------------------------------------------------\u001b[0m",
      "\u001b[1;31mTypeError\u001b[0m                                 Traceback (most recent call last)",
      "\u001b[1;32m<ipython-input-1-0699b4ba6fde>\u001b[0m in \u001b[0;36m<module>\u001b[1;34m\u001b[0m\n\u001b[0;32m      6\u001b[0m     \u001b[0mprint\u001b[0m\u001b[1;33m(\u001b[0m\u001b[0mp\u001b[0m\u001b[1;33m)\u001b[0m\u001b[1;33m\u001b[0m\u001b[1;33m\u001b[0m\u001b[0m\n\u001b[0;32m      7\u001b[0m \u001b[1;33m\u001b[0m\u001b[0m\n\u001b[1;32m----> 8\u001b[1;33m \u001b[0mproduct\u001b[0m\u001b[1;33m(\u001b[0m\u001b[1;36m4\u001b[0m\u001b[1;33m,\u001b[0m\u001b[1;36m6\u001b[0m\u001b[1;33m)\u001b[0m\u001b[1;33m\u001b[0m\u001b[1;33m\u001b[0m\u001b[0m\n\u001b[0m\u001b[0;32m      9\u001b[0m \u001b[0mproduct\u001b[0m\u001b[1;33m(\u001b[0m\u001b[1;36m4\u001b[0m\u001b[1;33m,\u001b[0m\u001b[1;36m4\u001b[0m\u001b[1;33m,\u001b[0m\u001b[1;36m4\u001b[0m\u001b[1;33m)\u001b[0m\u001b[1;33m\u001b[0m\u001b[1;33m\u001b[0m\u001b[0m\n",
      "\u001b[1;31mTypeError\u001b[0m: product() missing 1 required positional argument: 'c'"
     ]
    }
   ],
   "source": [
    "# contoh error\n",
    "def product(a,b):\n",
    "    p = a * b\n",
    "    print(p)\n",
    "def product(a,b,c):\n",
    "    p = a * b * c\n",
    "    print(p)\n",
    "    \n",
    "product(4,6)\n",
    "product(4,4,4)"
   ]
  },
  {
   "cell_type": "markdown",
   "metadata": {},
   "source": [
    "NEXT, Contoh True"
   ]
  },
  {
   "cell_type": "code",
   "execution_count": 4,
   "metadata": {},
   "outputs": [
    {
     "name": "stdout",
     "output_type": "stream",
     "text": [
      "64\n"
     ]
    }
   ],
   "source": [
    "#contoh TRUE\n",
    "def product(a,b,c):\n",
    "    p = a * b * c\n",
    "    print(p)\n",
    "    \n",
    "product(4,4,4)"
   ]
  },
  {
   "cell_type": "markdown",
   "metadata": {},
   "source": [
    "OVERLOADING dengan 02 kondisi"
   ]
  },
  {
   "cell_type": "code",
   "execution_count": 15,
   "metadata": {},
   "outputs": [
    {
     "name": "stdout",
     "output_type": "stream",
     "text": [
      "35\n",
      "oi Genk\n"
     ]
    }
   ],
   "source": [
    "#overloading dengan dua kondisi\n",
    "def add(datatype,*a):\n",
    "    if datatype == 'int':\n",
    "        answer = 0\n",
    "    if datatype == 'str':\n",
    "        answer = ''\n",
    "        \n",
    "    for x in a:\n",
    "        answer = answer + x\n",
    "    print(answer)\n",
    "        \n",
    "add('int',5,6,7,8,9,0)   #Integer\n",
    "add('str',\"oi \",\"Genk\")  #String"
   ]
  },
  {
   "cell_type": "code",
   "execution_count": 23,
   "metadata": {},
   "outputs": [
    {
     "name": "stdout",
     "output_type": "stream",
     "text": [
      "Hello\n",
      "Hello Guys\n"
     ]
    }
   ],
   "source": [
    "class human:\n",
    "    def sayhello(self,nama = None):\n",
    "        if nama is not None:\n",
    "            print(\"Hello\"+nama)\n",
    "        else:\n",
    "            print(\"Hello\")\n",
    "\n",
    "obj = human()         #Create instan\n",
    "obj.sayhello()        #call the method\n",
    "obj.sayhello(\" Guys\") #call the method with paramater\n",
    "            "
   ]
  },
  {
   "cell_type": "code",
   "execution_count": 27,
   "metadata": {},
   "outputs": [
    {
     "name": "stdout",
     "output_type": "stream",
     "text": [
      "Point object is at : (0,2)\n"
     ]
    }
   ],
   "source": [
    "#Magic Methode\n",
    "class point:\n",
    "    def __init__(self,x,y):\n",
    "        self.x = x\n",
    "        self.y = y\n",
    "\n",
    "    def __sub__(self,other):\n",
    "        x = self.x - other.x\n",
    "        y = self.y - other.y\n",
    "        return point(x,y)\n",
    "    \n",
    "    def __str__(self):\n",
    "        return \"Point object is at : (\"+str(self.x)+\",\"+str(self.y)+\")\"\n",
    "\n",
    "p1 = point(3,4)\n",
    "p2 = point(3,2)\n",
    "\n",
    "print(p1-p2)\n"
   ]
  },
  {
   "cell_type": "code",
   "execution_count": 1,
   "metadata": {},
   "outputs": [
    {
     "name": "stdout",
     "output_type": "stream",
     "text": [
      "8/8\n"
     ]
    }
   ],
   "source": [
    "class fuction:\n",
    "    def __init__(self,top,botton):\n",
    "        self.num = top\n",
    "        self.den = botton\n",
    "\n",
    "    def __add__(self,other):\n",
    "        newnum = self.num*other.den + self.den*other.num\n",
    "        newden = self.den*other.den\n",
    "        return fuction(newnum,newden)\n",
    "\n",
    "    def __str__(self):\n",
    "        return str(self.num)+\"/\"+str(self.den)\n",
    "f1 = fuction(2,4)\n",
    "f2 = fuction(1,2)\n",
    "print(f1+f2)\n"
   ]
  },
  {
   "cell_type": "code",
   "execution_count": 14,
   "metadata": {},
   "outputs": [
    {
     "name": "stdout",
     "output_type": "stream",
     "text": [
      "1\n",
      "6\n",
      "5\n"
     ]
    }
   ],
   "source": [
    "def tambah(*args):\n",
    "    answer = 0\n",
    "    for x in args:\n",
    "        answer = answer + x\n",
    "    print(answer)\n",
    "\n",
    "tambah(1)\n",
    "tambah(1,2,3)\n",
    "tambah(1,1,1,1,1)\n"
   ]
  },
  {
   "cell_type": "markdown",
   "metadata": {},
   "source": [
    "UTS Praktikum"
   ]
  },
  {
   "cell_type": "code",
   "execution_count": 30,
   "metadata": {},
   "outputs": [
    {
     "name": "stdout",
     "output_type": "stream",
     "text": [
      "(3, 5)\n"
     ]
    }
   ],
   "source": [
    "class complex:\n",
    "    def __init__(self,a,b):\n",
    "        self.a = a\n",
    "        self.b = b\n",
    "    def __add__(self, other):\n",
    "        return self.a + other.a,self.b + other.b\n",
    "    \n",
    "b1 = complex(1,2)\n",
    "b2 = complex(2,3)\n",
    "b3 = b1 + b2\n",
    "print(b3)"
   ]
  },
  {
   "cell_type": "code",
   "execution_count": 5,
   "metadata": {},
   "outputs": [
    {
     "name": "stdout",
     "output_type": "stream",
     "text": [
      "penjumlahan 27\n",
      "pengurangan (13, 5)\n",
      "perkalian (140, 24)\n",
      "pembagian (2.857142857142857, 2.6666666666666665)\n",
      "sisa bagi (6, 2)\n"
     ]
    }
   ],
   "source": [
    "class kelereng:\n",
    "    def __init__(self,merah,kuning):\n",
    "        self.merah = merah\n",
    "        self.kuning = kuning\n",
    "    def __add__(self, other):\n",
    "        return self.merah + other.merah\n",
    "    def __sub__(self, other):\n",
    "        return self.merah - other.merah, self.kuning - other.kuning\n",
    "    def __mul__(self, other):\n",
    "        return self.merah * other.merah, self.kuning * other.kuning\n",
    "    def __truediv__(self, other):\n",
    "        return self.merah / other.merah, self.kuning / other.kuning\n",
    "    def __mod__(self, other):\n",
    "        return self.merah % other.merah, self.kuning % other.kuning\n",
    "\n",
    "kelereng1 = kelereng(20,8)\n",
    "kelereng2 = kelereng(7,3)\n",
    "\n",
    "penjumlahan = kelereng1 + kelereng2\n",
    "print(\"penjumlahan\",penjumlahan)\n",
    "pengurangan = kelereng1 - kelereng2\n",
    "print(\"pengurangan\",pengurangan)\n",
    "perkalian = kelereng1 * kelereng2\n",
    "print(\"perkalian\",perkalian)\n",
    "pembagian = kelereng1 / kelereng2\n",
    "print(\"pembagian\",pembagian)\n",
    "sisa_bagi = kelereng1 % kelereng2\n",
    "print(\"sisa bagi\",sisa_bagi)\n"
   ]
  },
  {
   "cell_type": "code",
   "execution_count": 3,
   "metadata": {},
   "outputs": [
    {
     "name": "stdout",
     "output_type": "stream",
     "text": [
      "Pertambhan :  4\n",
      "Perkurangan :  0\n"
     ]
    }
   ],
   "source": [
    "class bilangan:\n",
    "    def __init__(self,x):\n",
    "        self.x = x\n",
    "    def __add__(self,other):\n",
    "        return self.x + other.x\n",
    "     \n",
    "    def __sub__(self,other):\n",
    "        return self.x - other.x\n",
    "obj = bilangan(2)\n",
    "tambah = obj + obj\n",
    "print(\"Pertambahan : \",tambah)\n",
    "kurang = obj - obj\n",
    "print(\"Perkurangan : \",kurang)\n",
    "    \n",
    "    \n",
    "    "
   ]
  },
  {
   "cell_type": "code",
   "execution_count": null,
   "metadata": {},
   "outputs": [],
   "source": []
  }
 ],
 "metadata": {
  "kernelspec": {
   "display_name": "Python 3",
   "language": "python",
   "name": "python3"
  },
  "language_info": {
   "codemirror_mode": {
    "name": "ipython",
    "version": 3
   },
   "file_extension": ".py",
   "mimetype": "text/x-python",
   "name": "python",
   "nbconvert_exporter": "python",
   "pygments_lexer": "ipython3",
   "version": "3.7.1"
  }
 },
 "nbformat": 4,
 "nbformat_minor": 2
}
