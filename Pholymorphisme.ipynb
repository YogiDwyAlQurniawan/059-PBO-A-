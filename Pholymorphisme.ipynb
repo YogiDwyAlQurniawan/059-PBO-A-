{
 "cells": [
  {
   "cell_type": "markdown",
   "metadata": {},
   "source": [
    "<div style=\"background-color: mediumseagreen; color:white;font-size:20px; text-align:center; width:100%; padding 12px;\">Pholymorphisme</div>"
   ]
  },
  {
   "attachments": {},
   "cell_type": "markdown",
   "metadata": {},
   "source": [
    "<img src=\"https://i.ibb.co/34QcCdF/Screenshot-2.jpg\">"
   ]
  },
  {
   "cell_type": "markdown",
   "metadata": {},
   "source": [
    "Terkadang suatu objek datang dalam banyak jenis atau bentuk. Jika kita memiliki tombol, ada banyak output draw yang berbeda (tombol bulat, tombol periksa, tombol kotak, tombol dengan gambar) tetapi mereka berbagi logika yang sama: onClick (). Kami mengaksesnya menggunakan metode yang sama. Gagasan ini disebut Polimorfisme."
   ]
  },
  {
   "cell_type": "code",
   "execution_count": 9,
   "metadata": {},
   "outputs": [
    {
     "name": "stdout",
     "output_type": "stream",
     "text": [
      "The shark's skeleton is made of cartingle\n",
      "The clownfish's skeleton is bone\n",
      "The shark is swimming\n",
      "The clownfish is swimming\n"
     ]
    }
   ],
   "source": [
    "class shark():\n",
    "    def swim(self):\n",
    "        print(\"The shark is swimming\")\n",
    "    def swim_backward(self):\n",
    "        print(\"The shark cannot swim backward,but can sink backward\")\n",
    "    def skeleton(self):\n",
    "        print(\"The shark's skeleton is made of cartingle\")\n",
    "    \n",
    "class clownfish():\n",
    "    def swim(self):\n",
    "        print(\"The clownfish is swimming\")\n",
    "    def swim_backward(self):\n",
    "        print(\"The clownfish cannot swim backward,but can sink backward\")\n",
    "    def skeleton(self):\n",
    "        print(\"The clownfish's skeleton is bone\")\n",
    "        \n",
    "sammy = shark()\n",
    "sammy.skeleton()\n",
    "\n",
    "casey = clownfish()\n",
    "casey.skeleton()\n",
    "\n",
    "def in_the_pasific(fish):\n",
    "    fish.swim()\n",
    "\n",
    "in_the_pasific(sammy)\n",
    "in_the_pasific(casey)\n",
    "\n",
    "  "
   ]
  },
  {
   "cell_type": "markdown",
   "metadata": {},
   "source": [
    "### Polymorphisme with fuction"
   ]
  },
  {
   "cell_type": "code",
   "execution_count": 17,
   "metadata": {},
   "outputs": [
    {
     "name": "stdout",
     "output_type": "stream",
     "text": [
      "Groarrrr\n",
      "Guk guk guk\n"
     ]
    }
   ],
   "source": [
    "class Bear():\n",
    "    def sound(self):\n",
    "        print(\"Groarrrr\")\n",
    "class Dog():\n",
    "    def sound(self):\n",
    "        print(\"Guk guk guk\")\n",
    "def makeSound(animal):\n",
    "    animal.sound()\n",
    "    \n",
    "bearObj = Bear()\n",
    "dogObj = Dog()\n",
    "\n",
    "makeSound(bearObj)\n",
    "makeSound(dogObj)\n"
   ]
  },
  {
   "cell_type": "code",
   "execution_count": null,
   "metadata": {},
   "outputs": [],
   "source": [
    "class makanan:\n",
    "    def nama(self):\n",
    "        print(\"Nama   : Roti\")\n",
    "    def harga(self):\n",
    "        print(\"Harga  : Rp.5.000\")\n",
    "    def diskon(self):\n",
    "        print(\"Diskon : 0%\")\n",
    "    def exp(self):\n",
    "        print(\"EXP    : 02-02-19\")\n",
    "def cetak1(n):\n",
    "    n.nama()\n",
    "    n.harga()\n",
    "    n.diskon()\n",
    "    n.exp()\n",
    "\n",
    "class pakaian:\n",
    "    def nama(self):\n",
    "        print(\"Nama   : Kemeja\")\n",
    "    def harga(self):\n",
    "        print(\"Harga  : Rp.100.000\")\n",
    "    def diskon(self):\n",
    "        print(\"Diskon : 0%\")\n",
    "    def ukuran(self):\n",
    "        print(\"ukuran : XL\")\n",
    "def cetak2(n):\n",
    "    n.nama()\n",
    "    n.harga()\n",
    "    n.diskon()\n",
    "    n.ukuran()\n",
    "\n",
    "qurniawan = makanan()\n",
    "yogi = pakaian()\n",
    "\n",
    "print(\"Makanan\")\n",
    "cetak1(qurniawan)\n",
    "\n",
    "print('''\n",
    "''')\n",
    "\n",
    "print(\"Pakaian\")\n",
    "cetak2(yogi)\n"
   ]
  },
  {
   "cell_type": "markdown",
   "metadata": {},
   "source": [
    "### Polymorphisme with class methods"
   ]
  },
  {
   "cell_type": "code",
   "execution_count": 15,
   "metadata": {},
   "outputs": [
    {
     "name": "stdout",
     "output_type": "stream",
     "text": [
      "The shark is swimming\n",
      "The shark cannot swim backward,but can sink backward\n",
      "The shark's skeleton is made of cartingle\n",
      "The clownfish is swimming\n",
      "The clownfish cannot swim backward,but can sink backward\n",
      "The clownfish's skeleton is bone\n"
     ]
    }
   ],
   "source": [
    "class shark():\n",
    "    def swim(self):\n",
    "        print(\"The shark is swimming\")\n",
    "    def swim_backward(self):\n",
    "        print(\"The shark cannot swim backward,but can sink backward\")\n",
    "    def skeleton(self):\n",
    "        print(\"The shark's skeleton is made of cartingle\")\n",
    "    \n",
    "class clownfish():\n",
    "    def swim(self):\n",
    "        print(\"The clownfish is swimming\")\n",
    "    def swim_backward(self):\n",
    "        print(\"The clownfish cannot swim backward,but can sink backward\")\n",
    "    def skeleton(self):\n",
    "        print(\"The clownfish's skeleton is bone\")\n",
    "        \n",
    "sammy = shark()\n",
    "casey = clownfish()\n",
    "\n",
    "for fish in (sammy,casey):\n",
    "    fish.swim()\n",
    "    fish.swim_backward()\n",
    "    fish.skeleton()\n",
    "\n",
    "  "
   ]
  },
  {
   "cell_type": "code",
   "execution_count": null,
   "metadata": {},
   "outputs": [],
   "source": [
    "class kategori_barang():\n",
    "    def __init__(self,kode,deskripsi):\n",
    "        self.kode = kode\n",
    "        self.deskripsi = deskripsi\n",
    "class barang:\n",
    "    def __init__(self,nama,harga,diskon):\n",
    "        self.nama = nama\n",
    "        self.harga = harga\n",
    "        self.diskon = diskon\n",
    "    def error(self):\n",
    "        raise NotImplementedError()\n",
    "\n",
    "class makanan:\n",
    "    def __init__(self,nama,harga,diskon,exp):\n",
    "        self.nama = nama\n",
    "        self.harga = harga\n",
    "        self.diskon = diskon\n",
    "        self.exp = exp\n",
    "    def cetak1(self):\n",
    "        print(self.nama,self.harga,self.diskon,self.exp)\n",
    "\n",
    "class pakaian:\n",
    "    def __init__(self,nama,harga,diskon,ukuran):\n",
    "        self.nama = nama\n",
    "        self.harga = harga\n",
    "        self.diskon = diskon\n",
    "        self.ukuran = ukuran\n",
    "    def cetak2(self):\n",
    "        print(self.nama,self.harga,self.diskon,self.ukuran)\n",
    "\n",
    "#Polymorphism with Class Methods\n",
    "datar_makanan = [makanan(\"Roti\",\"    Rp.5.000\",\"   0%\",\"      02-02-19\"),\n",
    "                 makanan(\"Nasi\", \"    Rp.10.000\", \"  0%\", \"      02-02-19\"),\n",
    "                 makanan(\"Rendang\",\" Rp.15.000\", \"  0%\", \"      02-02-19\"),\n",
    "                 makanan(\"Soto\", \"    Rp.12.000\", \"  0%\", \"      02-02-19\")]\n",
    "print(\"            MENU MAKANAN\")\n",
    "print(\"--------------------------------------\")\n",
    "print(\"Nama     Harga       Diskon   EXP.\")\n",
    "print(\"--------------------------------------\")\n",
    "for A in datar_makanan:\n",
    "    print(A.nama,A.harga,A.diskon,A.exp)\n",
    "\n",
    "print('''\n",
    "''')\n",
    "\n",
    "data_pakaian = [pakaian(\"kemeja\",\"  Rp.100.000\",\"  0%\",\"      XL\"),\n",
    "                pakaian(\"kaos\",\"    Rp.100.000\",\"  0%\",\"      XL\"),\n",
    "                pakaian(\"Celana\",\"  Rp.100.000\",\"  0%\",\"      XL\"),\n",
    "                pakaian(\"Batik\",\"   Rp.100.000\",\"  0%\",\"      XL\")]\n",
    "print(\"              PAKAIAN\")\n",
    "print(\"--------------------------------------\")\n",
    "print(\"Nama     Harga        Diskon   Ukuran\")\n",
    "print(\"--------------------------------------\")\n",
    "for A in data_pakaian:\n",
    "    print(A.nama,A.harga,A.diskon,A.ukuran)"
   ]
  },
  {
   "cell_type": "markdown",
   "metadata": {},
   "source": [
    "### abstrak class"
   ]
  },
  {
   "cell_type": "code",
   "execution_count": 1,
   "metadata": {},
   "outputs": [
    {
     "name": "stdout",
     "output_type": "stream",
     "text": [
      "Document1: Show pdf contents!\n",
      "Document2: Show pdf contents!\n",
      "Document3: Show word contents!\n"
     ]
    }
   ],
   "source": [
    "class Document:\n",
    "    def __init__(self, name):\n",
    "        self.name = name\n",
    "\n",
    "    def show(self):\n",
    "        raise NotImplementedError(\"Subclass must implement abstract method\")\n",
    "\n",
    "class Pdf(Document):\n",
    "    def show(self):\n",
    "        return 'Show pdf contents!'\n",
    "\n",
    "class Word(Document):\n",
    "    def show(self):\n",
    "        return 'Show word contents!'\n",
    "\n",
    "documents = [Pdf('Document1'),\n",
    "             Pdf('Document2'),\n",
    "             Word('Document3')]\n",
    "\n",
    "for document in documents:\n",
    "    print(document.name + ': ' + document.show())\n"
   ]
  },
  {
   "cell_type": "code",
   "execution_count": 3,
   "metadata": {},
   "outputs": [
    {
     "name": "stdout",
     "output_type": "stream",
     "text": [
      "BananaTruk : Truk driving\n",
      "OrangeTruk : Truk driving\n",
      "23 : Sportcar driving\n"
     ]
    }
   ],
   "source": [
    "class car:\n",
    "    def __init__(self,nama):\n",
    "        self.nama = nama\n",
    "    def drive(self):\n",
    "        raise NotImplementedError(\"Sub class must implemented bstrack method\")\n",
    "    def stop(self):\n",
    "        raise NotImplementedError(\"Sub class must implemented bstrack method\")\n",
    "            \n",
    "class sportscar(car):\n",
    "    def drive(self):\n",
    "        return \"Sportcar driving\"\n",
    "    def stop(self):\n",
    "        return \"Sportcar breaking\"\n",
    "\n",
    "class truk(car):\n",
    "    def drive(self):\n",
    "        return \"Truk driving\"\n",
    "    def stop(self):\n",
    "        return \"Truk breaking\"\n",
    "    \n",
    "cars = [truk(\"BananaTruk\"),\n",
    "       truk(\"OrangeTruk\"),\n",
    "       sportscar(\"23\")]\n",
    "\n",
    "for mobil in cars:\n",
    "    print(mobil.nama,\":\",mobil.drive())\n",
    "\n",
    "\n",
    "    \n",
    "\n",
    "        "
   ]
  },
  {
   "cell_type": "code",
   "execution_count": 37,
   "metadata": {
    "scrolled": true
   },
   "outputs": [
    {
     "name": "stdout",
     "output_type": "stream",
     "text": [
      "DOG : Berjalan 4 kaki ,suara GUK\n",
      "CAT : Berjalan 4 kaki ,suara MEEEONG\n",
      "SNAKE : Berjalan merayap ,suara sssssss\n"
     ]
    }
   ],
   "source": [
    "class binatang():\n",
    "    def __init__(self,nama):\n",
    "        self.nama = nama\n",
    "    def berjalan(self):\n",
    "        raise NotImplementedError(\"Sub class must implemented bstrack method\")\n",
    "    def suara(self):\n",
    "        raise NotImplementedError(\"Sub class must implemented bstrack method\")\n",
    "class kucing(binatang):\n",
    "    def berjalan(self):\n",
    "        return \"Berjalan 4 kaki\"\n",
    "    def suara(self):\n",
    "        return \"MEEEONG\"\n",
    "class anjing(binatang):\n",
    "    def berjalan(self):\n",
    "        return \"Berjalan 4 kaki\"\n",
    "    def suara(binatang):\n",
    "        return \"GUK\"\n",
    "class ular(binatang):\n",
    "    def berjalan(bintang):\n",
    "        return \"Berjalan merayap\"\n",
    "    def suara(bintang):\n",
    "        return \"sssssss\"\n",
    "b = [anjing(\"DOG\"),\n",
    "    kucing(\"CAT\"),\n",
    "    ular(\"SNAKE\")]\n",
    "\n",
    "for hewan in b:\n",
    "     print(hewan.nama,\":\",hewan.berjalan(),\",suara\",hewan.suara())"
   ]
  },
  {
   "cell_type": "code",
   "execution_count": 36,
   "metadata": {},
   "outputs": [
    {
     "name": "stdout",
     "output_type": "stream",
     "text": [
      "KOTAK : Banyak garis 4 ,sudut 90\n",
      "SEGITIGA : Banyak garis 3 ,sudut 35\n",
      "LINGKARAN : Banyak garis 1 ,sudut 360\n"
     ]
    }
   ],
   "source": [
    "class shape():\n",
    "    def __init__(self,nama,garis):\n",
    "        self.nama = nama\n",
    "        self.garis = garis\n",
    "class kotak(shape):\n",
    "    def __init__(self,nama,garis,sudut):\n",
    "    shape.__init__(sudut)\n",
    "    def garis(self):\n",
    "        return \"4\"\n",
    "    def sudut(self):\n",
    "        return \"90\"\n",
    "    def sudut(self):\n",
    "        return \"\"\n",
    "class segitiga(shape):\n",
    "    def garis(self):\n",
    "        return \"3\"\n",
    "    def sudut(self):\n",
    "        return \"35\"\n",
    "class lingkaran(shape):\n",
    "    def garis(self):\n",
    "        return \"1\"\n",
    "    def sudut(self):\n",
    "        return \"360\"\n",
    "B = [kotak(\"KOTAK\"),\n",
    "     segitiga(\"SEGITIGA\"),\n",
    "     lingkaran(\"LINGKARAN\")]\n",
    "\n",
    "for A in B:\n",
    "    print(A.nama,\": Banyak garis\",A.garis(),\",sudut\",A.sudut())"
   ]
  },
  {
   "cell_type": "code",
   "execution_count": 40,
   "metadata": {},
   "outputs": [
    {
     "name": "stdout",
     "output_type": "stream",
     "text": [
      "Bangun Ruang:  Persegi ;banyak garis :  4 ;Besar sudut:  90 deg ;Warna : Kuning\n",
      "\n",
      "Bangun Ruang:  Lingkaran ;banyak garis :  0 ;Besar sudut:  360 deg ;Warna : Biru\n",
      "\n",
      "Bangun Ruang:  Segitiga ;banyak garis :  3 ;Besar sudut:  30 deg ;Warna : Hijau\n",
      "\n"
     ]
    }
   ],
   "source": [
    "class shape:\n",
    "    def __init__(self,nama,jgaris):\n",
    "        self.nama = nama\n",
    "        self.jgaris = jgaris\n",
    "    def name(self):\n",
    "        raise NotImplementedError()\n",
    "    def garis(self):\n",
    "        raise NotImplementedError()\n",
    "class persegi(shape):\n",
    "    def __init__(self, sudut, nama,jgaris,color):\n",
    "        shape.__init__(self,nama,jgaris)\n",
    "        self.sudut = sudut\n",
    "        self.color = color\n",
    "    #PRINT\n",
    "    def name(self):\n",
    "        return self.nama\n",
    "    def garis(self):\n",
    "        return self.jgaris\n",
    "    def cetak_sudut(self):\n",
    "        return self.sudut\n",
    "    def warna(self):\n",
    "        return self.color\n",
    "class lingkaran(shape):\n",
    "    def __init__(self, sudut, nama,jgaris,color):\n",
    "        shape.__init__(self,nama,jgaris)\n",
    "        self.sudut = sudut\n",
    "        self.color = color\n",
    "    #PRINT\n",
    "    def name(self):\n",
    "        return self.nama\n",
    "    def garis(self):\n",
    "        return \"0\"\n",
    "    def cetak_sudut(self):\n",
    "        return \"360 deg\"\n",
    "    def warna(self):\n",
    "        return self.color\n",
    "class segitiga(shape):\n",
    "    def __init__(self, sudut, nama,jgaris,color):\n",
    "        shape.__init__(self,nama,jgaris)\n",
    "        self.sudut = sudut\n",
    "        self.color = color\n",
    "    #PRINT\n",
    "    def name(self):\n",
    "        return self.nama\n",
    "    def garis(self):\n",
    "        return self.jgaris\n",
    "    def cetak_sudut(self):\n",
    "        return self.sudut\n",
    "    def warna(self):\n",
    "        return self.color\n",
    "    \n",
    "bangun_1 = persegi(\"90 deg\", \"Persegi\",\"4\",\"Kuning\")\n",
    "bangun_2 = lingkaran(\"360 deg\",\"Lingkaran\",\"1\",\"Biru\")\n",
    "bangun_3 = segitiga(\"30 deg\", \"Segitiga\",\"3\",\"Hijau\")\n",
    "\n",
    "for ruang in (bangun_1, bangun_2, bangun_3):\n",
    "    print(\"Bangun Ruang: \",ruang.name(),\";banyak garis : \",ruang.garis(),\";Besar sudut: \",ruang.cetak_sudut(),\";Warna :\",ruang.warna())\n",
    "    print()\n",
    "    \n",
    "    \n",
    "    "
   ]
  },
  {
   "cell_type": "code",
   "execution_count": 6,
   "metadata": {},
   "outputs": [
    {
     "name": "stdout",
     "output_type": "stream",
     "text": [
      "katty : kasir\n",
      "helly : pelayan\n",
      "cobra : manajer\n",
      "jony : kurir\n",
      "jono : cheff\n",
      "dodi : kooki\n",
      "dodo : Ob\n",
      "jery : satpam\n",
      "juminten : ob\n",
      "jojo : pelayan\n"
     ]
    }
   ],
   "source": [
    "class karyawan:\n",
    "    def __init__(self,nama,deskripsi):\n",
    "        self.nama=nama\n",
    "        self.deskripsi=deskripsi\n",
    "    def tampilkan(self):\n",
    "        print(self.nama,self.deskripsi)\n",
    "\n",
    "class koki(karyawan):\n",
    "    pass\n",
    "\n",
    "class pizza(karyawan):\n",
    "    pass\n",
    "\n",
    "karyawan_pizza=[pizza('katty','kasir'),\n",
    "                pizza('helly','pelayan'),\n",
    "                pizza('cobra','manajer'),\n",
    "                pizza('jony','kurir'),\n",
    "                pizza('jono','cheff'),\n",
    "                pizza('dodi','kooki'),\n",
    "                pizza('dodo','Ob'),\n",
    "                pizza('jery','satpam'),\n",
    "                pizza('juminten','ob'),\n",
    "                pizza('jojo','pelayan')]\n",
    "for karyawan in karyawan_pizza:\n",
    "    print(karyawan.nama,':',karyawan.deskripsi)\n"
   ]
  }
 ],
 "metadata": {
  "kernelspec": {
   "display_name": "Python 3",
   "language": "python",
   "name": "python3"
  },
  "language_info": {
   "codemirror_mode": {
    "name": "ipython",
    "version": 3
   },
   "file_extension": ".py",
   "mimetype": "text/x-python",
   "name": "python",
   "nbconvert_exporter": "python",
   "pygments_lexer": "ipython3",
   "version": "3.7.1"
  }
 },
 "nbformat": 4,
 "nbformat_minor": 2
}
